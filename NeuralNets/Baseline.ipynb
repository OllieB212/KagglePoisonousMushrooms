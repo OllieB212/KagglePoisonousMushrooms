{
 "cells": [
  {
   "cell_type": "markdown",
   "metadata": {},
   "source": [
    "# Model 1:"
   ]
  },
  {
   "cell_type": "markdown",
   "metadata": {},
   "source": [
    "## Imports"
   ]
  },
  {
   "cell_type": "code",
   "execution_count": null,
   "metadata": {},
   "outputs": [],
   "source": [
    "import sys\n",
    "sys.path.append('../')\n",
    "import torch\n",
    "from KFoldCV import KFoldCV\n",
    "from torchmetrics.classification import BinaryAUROC\n",
    "from Model import Model\n",
    "from PMDataset import PMDataset\n",
    "from torch.optim import Adam\n",
    "from torch.nn import BCEWithLogitsLoss\n",
    "from torch.utils.data import DataLoader"
   ]
  },
  {
   "cell_type": "markdown",
   "metadata": {},
   "source": [
    "## Device Agnostic code:"
   ]
  },
  {
   "cell_type": "code",
   "execution_count": null,
   "metadata": {},
   "outputs": [],
   "source": [
    "device = \"cuda\" if torch.cuda.is_available() else \"cpu\"\n",
    "print(device)"
   ]
  },
  {
   "cell_type": "markdown",
   "metadata": {},
   "source": [
    "## KFold Cross Validation Parameters:"
   ]
  },
  {
   "cell_type": "code",
   "execution_count": null,
   "metadata": {},
   "outputs": [],
   "source": [
    "model = Model\n",
    "dataset = PMDataset(\"../PreProcessing/X_train.npy\",\"../PreProcessing/y_train.npy\")\n",
    "metric = BinaryAUROC()\n",
    "lossFn = BCEWithLogitsLoss()\n",
    "optimizer = Adam\n"
   ]
  },
  {
   "cell_type": "markdown",
   "metadata": {},
   "source": [
    "## KFold Cross Validation Excecution:"
   ]
  },
  {
   "cell_type": "code",
   "execution_count": null,
   "metadata": {},
   "outputs": [],
   "source": [
    "\n",
    "kf = KFoldCV(\n",
    "    k=5,\n",
    "    batchSize=128,\n",
    "    metric=metric,\n",
    "    savePath=\"../../Models/Baseline\",\n",
    "    modelName=\"Baseline\",\n",
    "    modelClass=model,\n",
    "    device=device,\n",
    "    dataset=dataset,\n",
    "    optimizerClass=optimizer,\n",
    "    lossFn=lossFn,\n",
    "    earlyStoppingArgs=[1e-6,20,False],\n",
    "    modelArgs=[377,1,2,1024]\n",
    "    #ADD args\n",
    ")\n",
    "\n",
    "kf.crossValidate()\n",
    "\n"
   ]
  },
  {
   "cell_type": "markdown",
   "metadata": {},
   "source": [
    "## Sanity Check:"
   ]
  },
  {
   "cell_type": "code",
   "execution_count": null,
   "metadata": {},
   "outputs": [],
   "source": [
    "print(kf.validScores)\n",
    "print(sum(kf.validScores)/5)"
   ]
  }
 ],
 "metadata": {
  "kernelspec": {
   "display_name": "Python 3",
   "language": "python",
   "name": "python3"
  },
  "language_info": {
   "codemirror_mode": {
    "name": "ipython",
    "version": 3
   },
   "file_extension": ".py",
   "mimetype": "text/x-python",
   "name": "python",
   "nbconvert_exporter": "python",
   "pygments_lexer": "ipython3",
   "version": "3.11.1"
  }
 },
 "nbformat": 4,
 "nbformat_minor": 2
}
