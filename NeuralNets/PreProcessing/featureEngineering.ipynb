{
 "cells": [
  {
   "cell_type": "markdown",
   "metadata": {},
   "source": [
    "# Feature Engineering:"
   ]
  },
  {
   "cell_type": "markdown",
   "metadata": {},
   "source": [
    "## Imports:"
   ]
  },
  {
   "cell_type": "code",
   "execution_count": null,
   "metadata": {},
   "outputs": [],
   "source": [
    "import numpy as np\n",
    "import pandas as pd\n",
    "from sklearn.pipeline import Pipeline\n",
    "from sklearn.compose import ColumnTransformer\n",
    "from sklearn.experimental import enable_iterative_imputer\n",
    "from sklearn.impute import IterativeImputer\n",
    "from sklearn.impute import SimpleImputer\n",
    "from sklearn.impute import KNNImputer\n",
    "from sklearn.preprocessing import OneHotEncoder\n",
    "from sklearn.preprocessing import RobustScaler\n",
    "from sklearn.decomposition import PCA\n",
    "pd.set_option('display.max_columns', None)"
   ]
  },
  {
   "cell_type": "code",
   "execution_count": null,
   "metadata": {},
   "outputs": [],
   "source": [
    "trainDf= pd.read_csv('../RawData/train.csv',index_col='id')\n",
    "testDf= pd.read_csv('../RawData/test.csv',index_col='id')"
   ]
  },
  {
   "cell_type": "code",
   "execution_count": null,
   "metadata": {},
   "outputs": [],
   "source": [
    "display(trainDf)\n",
    "display(testDf)"
   ]
  },
  {
   "cell_type": "code",
   "execution_count": null,
   "metadata": {},
   "outputs": [],
   "source": [
    "targets= trainDf['class']\n",
    "trainDf= trainDf.drop('class',axis=1)\n",
    "display(targets)\n",
    "display(trainDf)"
   ]
  },
  {
   "cell_type": "markdown",
   "metadata": {},
   "source": [
    "## Binarize targets:"
   ]
  },
  {
   "cell_type": "code",
   "execution_count": null,
   "metadata": {},
   "outputs": [],
   "source": [
    "targets=targets.apply(lambda x: 1 if x=='p' else 0)\n",
    "display(targets)"
   ]
  },
  {
   "cell_type": "code",
   "execution_count": null,
   "metadata": {},
   "outputs": [],
   "source": [
    "targets.name='class_is_p'\n",
    "display(targets)"
   ]
  },
  {
   "cell_type": "markdown",
   "metadata": {},
   "source": [
    "## Check for any Nulls in targets:"
   ]
  },
  {
   "cell_type": "code",
   "execution_count": null,
   "metadata": {},
   "outputs": [],
   "source": [
    "display(targets.isna().any())"
   ]
  },
  {
   "cell_type": "markdown",
   "metadata": {},
   "source": [
    "## Check for nulls in training data:"
   ]
  },
  {
   "cell_type": "code",
   "execution_count": null,
   "metadata": {},
   "outputs": [],
   "source": [
    "display(trainDf.isna().any())"
   ]
  },
  {
   "cell_type": "code",
   "execution_count": null,
   "metadata": {},
   "outputs": [],
   "source": [
    "display(trainDf.info())"
   ]
  },
  {
   "cell_type": "code",
   "execution_count": null,
   "metadata": {},
   "outputs": [],
   "source": [
    "display(testDf.info())"
   ]
  },
  {
   "cell_type": "code",
   "execution_count": null,
   "metadata": {},
   "outputs": [],
   "source": [
    "class FeatureEngineerPipeline:\n",
    "    def __init__(self, numericImputer,catImputer,numericScaler,catEncoder,numericColsArr, catColsArr, PCA=None):\n",
    "        self.PCA=PCA\n",
    "\n",
    "        self.numericPipeline= Pipeline([('imputer',numericImputer),('scaler',numericScaler),])\n",
    "        self.catPipeline= Pipeline([('imputer',catImputer),('encoder',catEncoder)])\n",
    "        self.CT= ColumnTransformer([\n",
    "            ('numericPipeline',self.numericPipeline,numericColsArr),\n",
    "            ('catPipeline',self.catPipeline,catColsArr)\n",
    "        ])\n",
    "        \n",
    "        self.PCAfitted= False\n",
    "    \n",
    "    def fit(self,X):\n",
    "        \n",
    "        self.CT.fit(X)\n",
    "        self.PCAfitted=False\n",
    "    \n",
    "    def transform(self,X):\n",
    "        X_new= self.CT.transform(X)\n",
    "        if (self.PCA is not None) and (not self.PCAfitted):\n",
    "            self.PCAfitted =True\n",
    "            return self.PCA.fit_transform(X_new)\n",
    "        elif (self.PCA is not None) and (self.PCAfitted):\n",
    "            return self.PCA.transform(X_new)\n",
    "        else:\n",
    "            return X_new\n",
    "    \n",
    "    def fit_transform(self,X):\n",
    "        X_new= self.CT.fit_transform(X)\n",
    "        if self.PCA is not None:\n",
    "            self.PCA.fit_transform(X_new)\n",
    "        else:\n",
    "            return X_new\n",
    "    \n",
    "    def featureEngineer(self, df):\n",
    "        new_df=df\n",
    "        good_values = ['a', 'b', 'c', 'd', 'e', 'f', 'g', 'h', 'i', 'j', 'k', 'l', 'm', 'n', 'o', \n",
    "               'p', 'q', 'r', 's', 't', 'u', 'v', 'w', 'x', 'y', 'z', np.nan, 'error', ]\n",
    "        \n",
    "        for col in new_df.columns:\n",
    "            if col in ['cap-diameter','stem-height','stem-width']:\n",
    "                continue\n",
    "            new_df[col]= new_df[col].apply(lambda x: 'error' if not(x in good_values) else x)\n",
    "        \n",
    "        for col in new_df.columns:            \n",
    "            if new_df[col].isna().any():\n",
    "                new_df[f\"{col}_is_null\"]= new_df[col].isna().apply(lambda x: 1 if x==True else 0)\n",
    "        \n",
    "        return new_df\n",
    "            "
   ]
  },
  {
   "cell_type": "code",
   "execution_count": null,
   "metadata": {},
   "outputs": [],
   "source": [
    "numericCols= ['cap-diameter','stem-height','stem-width']\n",
    "catCols= [x for x in trainDf if x not in numericCols]\n",
    "catImputer= SimpleImputer(strategy='most_frequent')#IterativeImputer(initial_strategy='most_frequent')\n",
    "numericImputer= IterativeImputer(initial_strategy='median')\n",
    "catEncoder=OneHotEncoder(handle_unknown='infrequent_if_exist',min_frequency=1, drop='first')\n",
    "numericScaler= RobustScaler()\n",
    "# pca= PCA(n_components=25)\n",
    "pipe= FeatureEngineerPipeline(numericImputer=numericImputer,catImputer=catImputer,\n",
    "                              numericScaler=numericScaler,catEncoder=catEncoder,\n",
    "                              numericColsArr=numericCols,catColsArr=catCols)#PCA=pca\n",
    "trainDf_FE= pipe.featureEngineer(trainDf)\n",
    "testDf_FE= pipe.featureEngineer(testDf)\n",
    "X_train= pipe.fit_transform(trainDf_FE)\n",
    "X_test= pipe.transform(testDf_FE)"
   ]
  },
  {
   "cell_type": "code",
   "execution_count": null,
   "metadata": {},
   "outputs": [],
   "source": [
    "\n",
    "X_train=X_train.toarray().astype(np.float32)\n",
    "X_test=X_test.toarray().astype(np.float32)\n",
    "\n",
    "np.save('X_train.npy',X_train)\n",
    "np.save('X_test.npy',X_test)\n"
   ]
  },
  {
   "cell_type": "code",
   "execution_count": null,
   "metadata": {},
   "outputs": [],
   "source": [
    "np.save('y_train',targets.to_numpy(dtype=np.float32))"
   ]
  }
 ],
 "metadata": {
  "kernelspec": {
   "display_name": "Python 3",
   "language": "python",
   "name": "python3"
  },
  "language_info": {
   "codemirror_mode": {
    "name": "ipython",
    "version": 3
   },
   "file_extension": ".py",
   "mimetype": "text/x-python",
   "name": "python",
   "nbconvert_exporter": "python",
   "pygments_lexer": "ipython3",
   "version": "3.11.1"
  }
 },
 "nbformat": 4,
 "nbformat_minor": 2
}
