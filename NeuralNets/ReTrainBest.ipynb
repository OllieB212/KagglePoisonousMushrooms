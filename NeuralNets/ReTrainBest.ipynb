{
 "cells": [
  {
   "cell_type": "code",
   "execution_count": null,
   "metadata": {},
   "outputs": [],
   "source": [
    "import torch\n",
    "from KFoldCV import KFoldCV\n",
    "from torchmetrics.classification import BinaryMatthewsCorrCoef\n",
    "from Model import Model\n",
    "from PMDataset import PMDataset, DatasetPredict\n",
    "from torch.optim import AdamW\n",
    "from torch.nn import BCEWithLogitsLoss\n",
    "from torch.utils.data import DataLoader\n",
    "import pandas as pd\n",
    "import numpy as np\n",
    "\n",
    "from tqdm.notebook import tqdm"
   ]
  },
  {
   "cell_type": "code",
   "execution_count": null,
   "metadata": {},
   "outputs": [],
   "source": [
    "device= 'cuda' if torch.cuda.is_available() else 'cpu'"
   ]
  },
  {
   "cell_type": "code",
   "execution_count": null,
   "metadata": {},
   "outputs": [],
   "source": [
    "import pickle\n",
    "with open('BEST_MODEL_PARAMETERS_study_1.pickle', 'rb') as f:\n",
    "    x= pickle.load(f)\n",
    "print(x.params)\n"
   ]
  },
  {
   "cell_type": "code",
   "execution_count": null,
   "metadata": {},
   "outputs": [],
   "source": [
    "BATCH_SIZE=128\n",
    "NUM_BLOCKS= x.params['num_blocks']\n",
    "WIDTH=x.params['width']\n",
    "INPUT_SIZE=377\n",
    "OUTPUT_SIZE=1\n",
    "LR= x.params['lr']\n",
    "BETAS= (x.params['beta_1'],x.params['beta_2'])\n",
    "SAVE_PATH=\"Models/LastModel\"\n",
    "MODEL_NAME=\"LastModel\""
   ]
  },
  {
   "cell_type": "code",
   "execution_count": null,
   "metadata": {},
   "outputs": [],
   "source": [
    "model = Model\n",
    "dataset = PMDataset(\"PreProcessing/X_train.npy\",\"PreProcessing/y_train.npy\")\n",
    "metric = BinaryMatthewsCorrCoef().to(device)\n",
    "lossFn = BCEWithLogitsLoss()\n",
    "optimizer = AdamW"
   ]
  },
  {
   "cell_type": "code",
   "execution_count": null,
   "metadata": {},
   "outputs": [],
   "source": [
    "kf = KFoldCV(\n",
    "    k=5,\n",
    "    batchSize=128,\n",
    "    metric=metric,\n",
    "    savePath=SAVE_PATH,\n",
    "    modelName=MODEL_NAME,\n",
    "    modelClass=model,\n",
    "    device=device,\n",
    "    dataset=dataset,\n",
    "    optimizerClass=optimizer,\n",
    "    lossFn=lossFn,\n",
    "    optimizerArgs=[LR,BETAS],\n",
    "    earlyStoppingArgs=[1e-6,10,False],\n",
    "    modelArgs=[INPUT_SIZE,OUTPUT_SIZE,NUM_BLOCKS,WIDTH,0.2],\n",
    ")"
   ]
  },
  {
   "cell_type": "code",
   "execution_count": null,
   "metadata": {},
   "outputs": [],
   "source": [
    "kf.crossValidate()"
   ]
  },
  {
   "cell_type": "code",
   "execution_count": null,
   "metadata": {},
   "outputs": [],
   "source": [
    "print(kf.validScores)\n",
    "print(sum(kf.validScores)/5)"
   ]
  },
  {
   "cell_type": "code",
   "execution_count": 9,
   "metadata": {},
   "outputs": [
    {
     "ename": "NameError",
     "evalue": "name 'ICSDatasetPredict' is not defined",
     "output_type": "error",
     "traceback": [
      "\u001b[1;31m---------------------------------------------------------------------------\u001b[0m",
      "\u001b[1;31mNameError\u001b[0m                                 Traceback (most recent call last)",
      "Cell \u001b[1;32mIn[9], line 1\u001b[0m\n\u001b[1;32m----> 1\u001b[0m dataset_test \u001b[38;5;241m=\u001b[39m \u001b[43mICSDatasetPredict\u001b[49m(\u001b[38;5;124m\"\u001b[39m\u001b[38;5;124mPreProcessing/X_test.npy\u001b[39m\u001b[38;5;124m\"\u001b[39m)\n\u001b[0;32m      2\u001b[0m test_data_loader\u001b[38;5;241m=\u001b[39m DataLoader(dataset_test,shuffle\u001b[38;5;241m=\u001b[39m\u001b[38;5;28;01mFalse\u001b[39;00m)\n",
      "\u001b[1;31mNameError\u001b[0m: name 'ICSDatasetPredict' is not defined"
     ]
    }
   ],
   "source": [
    "dataset_test = ICSDatasetPredict(\"PreProcessing/X_test.npy\")\n",
    "test_data_loader= DataLoader(dataset_test,shuffle=False)"
   ]
  },
  {
   "cell_type": "code",
   "execution_count": null,
   "metadata": {},
   "outputs": [],
   "source": [
    "def predict(\n",
    "    model: torch.nn.Module,\n",
    "    dataLoader: torch.utils.data.DataLoader,\n",
    "    device: torch.device,\n",
    "):\n",
    "    \"\"\"\n",
    "    This function computes the following evaluation metrics on a given dataset: Accuracy, recall, confusion matrix, 1 vs rest confusion matrix.\n",
    "\n",
    "    Parameters\n",
    "    ----------\n",
    "    model: The model to evaluate.\n",
    "\n",
    "    dataLoader: Dataloader for the dataset to evaluate the model.\n",
    "\n",
    "    resultSavePath: path to where the results shoul be saved.\n",
    "\n",
    "    name of the results file.\n",
    "\n",
    "    device: Device to run the model on.\n",
    "\n",
    "    \"\"\"\n",
    "    \n",
    "    arr = torch.Tensor().to(device)\n",
    "\n",
    "    model.eval()\n",
    "    with torch.inference_mode():\n",
    "        for batch, X in tqdm(enumerate(dataLoader)):\n",
    "            X = X.to(device)\n",
    "\n",
    "            y_pred = model(X)\n",
    "            arr = torch.cat((arr, y_pred), 0)\n",
    "\n",
    "    return pd.Series(torch.squeeze(arr, 1).cpu().numpy().astype(np.float32)).apply(lambda x: 'p' if x>=0 else 'e')"
   ]
  },
  {
   "cell_type": "code",
   "execution_count": null,
   "metadata": {},
   "outputs": [],
   "source": [
    "for i in tqdm(range(0,9)):\n",
    "    model= Model(INPUT_SIZE,OUTPUT_SIZE,NUM_BLOCKS,WIDTH).to(device)\n",
    "    model.load_state_dict(torch.load(f\"{SAVE_PATH}/{MODEL_NAME}_FOLD_{i}.pth\"))\n",
    "    predict(model=model,dataLoader=test_data_loader,device=device).to_csv(f'{SAVE_PATH}/{MODEL_NAME}_FOLD_{i}.csv')\n",
    "    \n",
    "    "
   ]
  }
 ],
 "metadata": {
  "kernelspec": {
   "display_name": "Python 3",
   "language": "python",
   "name": "python3"
  },
  "language_info": {
   "codemirror_mode": {
    "name": "ipython",
    "version": 3
   },
   "file_extension": ".py",
   "mimetype": "text/x-python",
   "name": "python",
   "nbconvert_exporter": "python",
   "pygments_lexer": "ipython3",
   "version": "3.11.1"
  }
 },
 "nbformat": 4,
 "nbformat_minor": 2
}
