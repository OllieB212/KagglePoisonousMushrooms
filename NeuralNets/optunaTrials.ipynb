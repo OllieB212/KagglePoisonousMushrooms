{
 "cells": [
  {
   "cell_type": "code",
   "execution_count": null,
   "metadata": {},
   "outputs": [],
   "source": [
    "import PytorchOptuna\n",
    "import torch\n",
    "from torchmetrics.classification import BinaryAccuracy\n",
    "from Model import Model\n",
    "from PMDataset import PMDataset\n",
    "from torch.optim import AdamW\n",
    "from torch.nn import BCEWithLogitsLoss\n",
    "from torch.utils.data import DataLoader"
   ]
  },
  {
   "cell_type": "code",
   "execution_count": null,
   "metadata": {},
   "outputs": [],
   "source": [
    "device = \"cuda\" if torch.cuda.is_available() else \"cpu\"\n",
    "print(device)"
   ]
  },
  {
   "cell_type": "code",
   "execution_count": null,
   "metadata": {},
   "outputs": [],
   "source": [
    "valid_dataset = PMDataset(\"PreProcessing/optunaData/X_train_optuna.npy\",\"PreProcessing/optunaData/y_train_optuna.npy\")\n",
    "train_dataset = PMDataset(\"PreProcessing/optunaData/X_valid_optuna.npy\",\"PreProcessing/optunaData/y_valid_optuna.npy\")\n",
    "\n",
    "\n",
    "valid_dataLoader= DataLoader(valid_dataset,batch_size=128,shuffle=False)\n",
    "\n",
    "train_dataLoader= DataLoader(train_dataset,batch_size=128,shuffle=True)"
   ]
  },
  {
   "cell_type": "code",
   "execution_count": null,
   "metadata": {},
   "outputs": [],
   "source": [
    "def create_model(trial):\n",
    "    \n",
    "    num_blocks= trial.suggest_int('num_blocks',1,4)\n",
    "    width= trial.suggest_int('width',64,2048)\n",
    "    \n",
    "    return Model(input_size=138,output_size=1,num_blocks=num_blocks,width=width).to(device)"
   ]
  },
  {
   "cell_type": "code",
   "execution_count": null,
   "metadata": {},
   "outputs": [],
   "source": [
    "def objective(trial,model):\n",
    "\n",
    "    lr= trial.suggest_float('lr',1e-6,1e-1, log=True)\n",
    "    \n",
    "    \n",
    "    beta_1= trial.suggest_float('beta_1',0.8,0.999,log=True)\n",
    "    beta_2=trial.suggest_float('beta_2',0.9,0.9999,log=True)\n",
    "    \n",
    "    \n",
    "    optimizer= AdamW(model.parameters(),lr=lr,betas=(beta_1,beta_2))\n",
    "        \n",
    "    \n",
    "    test_score=PytorchOptuna.train_model(model=model,maxEpochs=100,dataLoaderTrain=train_dataLoader,\n",
    "                              dataLoaderValid=valid_dataLoader,\n",
    "                              lossFn=BCEWithLogitsLoss(),optimizer=optimizer,\n",
    "                              metric=BinaryAccuracy().to(device),device=device,trial=trial,earlyStoppingArgs=[1e-5,10,False])\n",
    "    \n",
    "    return test_score"
   ]
  },
  {
   "cell_type": "code",
   "execution_count": null,
   "metadata": {},
   "outputs": [],
   "source": [
    "\n",
    "opt= PytorchOptuna.PytorchOptuna('Models/model2', direction='maximize',create_model=create_model,objective=objective,study_name='study2',storage='sqlite:///study2.db',load_if_exists=True)\n",
    "\n",
    "opt.optimize(n_trials=50)\n",
    "\n",
    "\n",
    "print(\"Best trial:\")\n",
    "trial = opt.study.best_trial\n",
    "\n",
    "print(\"  Value: \", trial.value)\n",
    "\n",
    "print(\"  Params: \")\n",
    "for key, value in trial.params.items():\n",
    "    print(\"    {}: {}\".format(key, value))"
   ]
  },
  {
   "cell_type": "code",
   "execution_count": null,
   "metadata": {},
   "outputs": [],
   "source": [
    "import optuna\n",
    "fig = optuna.visualization.plot_param_importances(opt.study)\n",
    "fig.show()"
   ]
  }
 ],
 "metadata": {
  "kernelspec": {
   "display_name": "Python 3",
   "language": "python",
   "name": "python3"
  },
  "language_info": {
   "codemirror_mode": {
    "name": "ipython",
    "version": 3
   },
   "file_extension": ".py",
   "mimetype": "text/x-python",
   "name": "python",
   "nbconvert_exporter": "python",
   "pygments_lexer": "ipython3",
   "version": "3.11.1"
  }
 },
 "nbformat": 4,
 "nbformat_minor": 2
}
