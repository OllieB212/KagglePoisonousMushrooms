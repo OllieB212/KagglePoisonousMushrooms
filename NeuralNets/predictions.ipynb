{
 "cells": [
  {
   "cell_type": "code",
   "execution_count": 1,
   "metadata": {},
   "outputs": [],
   "source": [
    "import torch\n",
    "import pandas as pd\n",
    "import numpy as np\n",
    "from Model import Model\n",
    "from PMDataset import PMDatasetPredict\n",
    "from tqdm.notebook import tqdm"
   ]
  },
  {
   "cell_type": "code",
   "execution_count": 2,
   "metadata": {},
   "outputs": [],
   "source": [
    "def predict(\n",
    "    model: torch.nn.Module,\n",
    "    dataLoader: torch.utils.data.DataLoader,\n",
    "    idCSVPath,\n",
    "    device: torch.device,\n",
    "):\n",
    "    \"\"\"\n",
    "    This function computes the following evaluation metrics on a given dataset: Accuracy, recall, confusion matrix, 1 vs rest confusion matrix.\n",
    "\n",
    "    Parameters\n",
    "    ----------\n",
    "    model: The model to evaluate.\n",
    "\n",
    "    dataLoader: Dataloader for the dataset to evaluate the model.\n",
    "\n",
    "    resultSavePath: path to where the results shoul be saved.\n",
    "\n",
    "    name of the results file.\n",
    "\n",
    "    device: Device to run the model on.\n",
    "\n",
    "    \"\"\"\n",
    "    df = pd.read_csv(idCSVPath)\n",
    "    arr = torch.Tensor().to(device)\n",
    "\n",
    "    model.eval()\n",
    "    with torch.inference_mode():\n",
    "        for batch, X in tqdm(enumerate(dataLoader)):\n",
    "            X = X.to(device)\n",
    "\n",
    "            logits = model(X)\n",
    "            y_pred= torch.round(torch.sigmoid(logits))\n",
    "            arr = torch.cat((arr, y_pred), 0)\n",
    "\n",
    "    df[\"class\"] = pd.Series(torch.squeeze(arr, 1).cpu().numpy().astype(np.uint8))\n",
    "\n",
    "    return df"
   ]
  },
  {
   "cell_type": "code",
   "execution_count": 3,
   "metadata": {},
   "outputs": [
    {
     "name": "stdout",
     "output_type": "stream",
     "text": [
      "cuda\n"
     ]
    }
   ],
   "source": [
    "device = \"cuda\" if torch.cuda.is_available() else \"cpu\"\n",
    "print(device)"
   ]
  },
  {
   "cell_type": "code",
   "execution_count": null,
   "metadata": {},
   "outputs": [],
   "source": []
  },
  {
   "cell_type": "code",
   "execution_count": 4,
   "metadata": {},
   "outputs": [],
   "source": [
    "import torch.utils\n",
    "import torch.utils.data\n",
    "\n",
    "\n",
    "testData= PMDatasetPredict('PreProcessing/X_test.npy')\n",
    "testLoader= torch.utils.data.DataLoader(testData,batch_size=128,shuffle=False)"
   ]
  },
  {
   "cell_type": "code",
   "execution_count": 5,
   "metadata": {},
   "outputs": [],
   "source": [
    "model= Model(377,1,2,1024).to(device)\n"
   ]
  },
  {
   "cell_type": "code",
   "execution_count": 6,
   "metadata": {},
   "outputs": [
    {
     "data": {
      "application/vnd.jupyter.widget-view+json": {
       "model_id": "5986e2f0ba8b4529b5a98404e7245869",
       "version_major": 2,
       "version_minor": 0
      },
      "text/plain": [
       "0it [00:00, ?it/s]"
      ]
     },
     "metadata": {},
     "output_type": "display_data"
    },
    {
     "data": {
      "application/vnd.jupyter.widget-view+json": {
       "model_id": "ab6138e9afdf45e98b7c3dc2b74012e6",
       "version_major": 2,
       "version_minor": 0
      },
      "text/plain": [
       "0it [00:00, ?it/s]"
      ]
     },
     "metadata": {},
     "output_type": "display_data"
    },
    {
     "data": {
      "application/vnd.jupyter.widget-view+json": {
       "model_id": "94b6b3653ee04a7cbfd65043c1c7dafd",
       "version_major": 2,
       "version_minor": 0
      },
      "text/plain": [
       "0it [00:00, ?it/s]"
      ]
     },
     "metadata": {},
     "output_type": "display_data"
    },
    {
     "data": {
      "application/vnd.jupyter.widget-view+json": {
       "model_id": "4bbfdebfe0e94410b5a7183f7241393c",
       "version_major": 2,
       "version_minor": 0
      },
      "text/plain": [
       "0it [00:00, ?it/s]"
      ]
     },
     "metadata": {},
     "output_type": "display_data"
    },
    {
     "data": {
      "application/vnd.jupyter.widget-view+json": {
       "model_id": "d6ab6765022548ef81ba4bd490db994a",
       "version_major": 2,
       "version_minor": 0
      },
      "text/plain": [
       "0it [00:00, ?it/s]"
      ]
     },
     "metadata": {},
     "output_type": "display_data"
    }
   ],
   "source": [
    "for i in range(0,5):\n",
    "    model.load_state_dict(torch.load(f'Models/Baseline/Baseline_FOLD_{i}.pth'))\n",
    "    predict(model=model,dataLoader=testLoader,idCSVPath='PreProcessing/testIDNums.csv',device=device).to_csv(f'Models/Baseline/Fold{i}_results.csv',index=False)\n"
   ]
  },
  {
   "cell_type": "code",
   "execution_count": 13,
   "metadata": {},
   "outputs": [
    {
     "name": "stderr",
     "output_type": "stream",
     "text": [
      "C:\\Users\\kevin\\AppData\\Local\\Temp\\ipykernel_14156\\2904275305.py:8: UserWarning: Pandas doesn't allow columns to be created via a new attribute name - see https://pandas.pydata.org/pandas-docs/stable/indexing.html#attribute-access\n",
      "  dfMode.colums=['class']\n"
     ]
    },
    {
     "name": "stdout",
     "output_type": "stream",
     "text": [
      "        class class class class class\n",
      "id                                   \n",
      "3116945     e     e     e     e     e\n",
      "3116946     p     p     p     p     p\n",
      "3116947     p     p     p     p     p\n",
      "3116948     p     p     p     p     p\n",
      "3116949     e     e     e     e     e\n",
      "...       ...   ...   ...   ...   ...\n",
      "5194904     p     p     p     p     p\n",
      "5194905     p     p     p     p     p\n",
      "5194906     p     p     p     p     p\n",
      "5194907     e     e     e     e     e\n",
      "5194908     e     e     e     e     e\n",
      "\n",
      "[2077964 rows x 5 columns]\n"
     ]
    }
   ],
   "source": [
    "df= pd.read_csv('PreProcessing/testIDNums.csv', index_col='id')\n",
    "for i in range(0,5):\n",
    "    tempDf= pd.read_csv(f'Models/Baseline/Fold{i}_results.csv', index_col='id')['class'].apply(lambda x: 'p' if x==1 else 'e')\n",
    "    tempDf.columns=[f'class_Fold{i}']\n",
    "    df=pd.concat([df,tempDf],axis=1, ignore_index=False)\n",
    "\n",
    "dfMode=df.mode(axis=1)\n",
    "dfMode.name='class'\n",
    "dfMode.to_csv('Models/Baseline/Baseline_5_fold_Mode.csv',index=True)\n"
   ]
  },
  {
   "cell_type": "code",
   "execution_count": 12,
   "metadata": {},
   "outputs": [
    {
     "name": "stdout",
     "output_type": "stream",
     "text": [
      "         0\n",
      "id        \n",
      "3116945  e\n",
      "3116946  p\n",
      "3116947  p\n",
      "3116948  p\n",
      "3116949  e\n",
      "...     ..\n",
      "3117040  e\n",
      "3117041  p\n",
      "3117042  e\n",
      "3117043  p\n",
      "3117044  p\n",
      "\n",
      "[100 rows x 1 columns]\n"
     ]
    }
   ],
   "source": []
  }
 ],
 "metadata": {
  "kernelspec": {
   "display_name": "Python 3",
   "language": "python",
   "name": "python3"
  },
  "language_info": {
   "codemirror_mode": {
    "name": "ipython",
    "version": 3
   },
   "file_extension": ".py",
   "mimetype": "text/x-python",
   "name": "python",
   "nbconvert_exporter": "python",
   "pygments_lexer": "ipython3",
   "version": "3.12.2"
  }
 },
 "nbformat": 4,
 "nbformat_minor": 2
}
